{
  "nbformat": 4,
  "nbformat_minor": 0,
  "metadata": {
    "colab": {
      "name": "Suraj_pandey Deep Learning -Capstone project -(speech emotion recognition)",
      "provenance": [],
      "collapsed_sections": [],
      "toc_visible": true,
      "include_colab_link": true
    },
    "kernelspec": {
      "display_name": "Python 3",
      "name": "python3"
    }
  },
  "cells": [
    {
      "cell_type": "markdown",
      "metadata": {
        "id": "view-in-github",
        "colab_type": "text"
      },
      "source": [
        "<a href=\"https://colab.research.google.com/github/surajpandey11/Deep-learning_Capstone-Project/blob/main/Suraj_pandey_Deep_Learning_Capstone_project_(speech_emotion_recognition).ipynb\" target=\"_parent\"><img src=\"https://colab.research.google.com/assets/colab-badge.svg\" alt=\"Open In Colab\"/></a>"
      ]
    },
    {
      "cell_type": "markdown",
      "metadata": {
        "id": "QOXKNPT4YeN-"
      },
      "source": [
        "## **Deep Learning project -(speech emotion recognition)**"
      ]
    },
    {
      "cell_type": "code",
      "metadata": {
        "id": "pxGbzXbDYbBz"
      },
      "source": [
        ""
      ],
      "execution_count": null,
      "outputs": []
    }
  ]
}